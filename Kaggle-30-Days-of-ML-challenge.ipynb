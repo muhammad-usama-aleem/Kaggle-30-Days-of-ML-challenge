{
  "nbformat": 4,
  "nbformat_minor": 0,
  "metadata": {
    "colab": {
      "name": "Untitled0.ipynb",
      "provenance": [],
      "collapsed_sections": [],
      "authorship_tag": "ABX9TyPrgooD0K4gKJoVuU5rAVmN",
      "include_colab_link": true
    },
    "kernelspec": {
      "name": "python3",
      "display_name": "Python 3"
    },
    "language_info": {
      "name": "python"
    }
  },
  "cells": [
    {
      "cell_type": "markdown",
      "metadata": {
        "id": "view-in-github",
        "colab_type": "text"
      },
      "source": [
        "<a href=\"https://colab.research.google.com/github/muhammad-usama-aleem/Kaggle-30-Days-of-ML-challenge/blob/main/Kaggle-30-Days-of-ML-challenge.ipynb\" target=\"_parent\"><img src=\"https://colab.research.google.com/assets/colab-badge.svg\" alt=\"Open In Colab\"/></a>"
      ]
    },
    {
      "cell_type": "code",
      "metadata": {
        "id": "QMUaP_LfBm8x"
      },
      "source": [
        "# Importing the libraries\n",
        "import numpy as np\n",
        "import matplotlib.pyplot as plt\n",
        "import pandas as pd\n",
        "\n",
        "# Importing the train_dataset\n",
        "train_dataset = pd.read_csv('../input/30-days-of-ml/train.csv', index_col=\"id\")\n",
        "x_train = train_dataset.iloc[:, :-1].values\n",
        "y_train = train_dataset.iloc[:, -1].values\n",
        "\n",
        "# Importing the test_dataset\n",
        "test_dataset = pd.read_csv('../input/30-days-of-ml/test.csv', index_col=\"id\")\n",
        "x_test = test_dataset.iloc[:, :].values\n",
        "\n",
        "# Encoding categorical data\n",
        "from sklearn.preprocessing import LabelEncoder, OneHotEncoder\n",
        "from sklearn.compose import ColumnTransformer\n",
        "labelencoder_x = LabelEncoder()\n",
        "\n",
        "for count in range(0, 10):\n",
        "    x_train[:, count] = labelencoder_x.fit_transform(x_train[:, count])\n",
        "    x_test[:, count] = labelencoder_x.fit_transform(x_test[:, count])\n",
        "\n",
        "\n",
        "# onehotencoder = ColumnTransformer(\n",
        "#     [('one_hot_encoder', OneHotEncoder(categories='auto'), [A, B, C, D, E, F, G, H, I, J, K])],\n",
        "#     # The column numbers to be transformed (here is [0] but can be [0, 1, 3])\n",
        "#     remainder='passthrough'  # Leave the rest of the columns untouched\n",
        "# )\n",
        "# copy_x_train = x_train[:, 1: 11]\n",
        "# copy_x_train = onehotencoder.fit_transform(copy_x_train)\n",
        "# print(copy_x_train)\n",
        "\n",
        "\n",
        "from sklearn.ensemble import RandomForestRegressor, GradientBoostingRegressor\n",
        "regressor = RandomForestRegressor(random_state=1, n_estimators=500, n_jobs=-1, warm_start=True)\n",
        "regressor.fit(x_train, y_train)\n",
        "rfr_predict = regressor.predict(x_test)\n",
        "\n",
        "gbr_model = GradientBoostingRegressor(random_state=1, n_estimators=500)\n",
        "gbr_model.fit(x_train, y_train)\n",
        "gbr_val_predictions = gbr_model.predict(x_test)\n",
        "\n",
        "final_prediction = (rfr_predict + gbr_val_predictions) /2\n",
        "\n",
        "data = pd.read_csv(\"../input/30-days-of-ml/sample_submission.csv\")\n",
        "data['target'] = final_prediction\n",
        "data.to_csv('sample_submission_3.csv', index=False)\n"
      ],
      "execution_count": null,
      "outputs": []
    }
  ]
}