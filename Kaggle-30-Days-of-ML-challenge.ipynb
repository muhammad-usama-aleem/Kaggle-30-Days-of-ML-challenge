{
  "nbformat": 4,
  "nbformat_minor": 0,
  "metadata": {
    "colab": {
      "name": "Untitled0.ipynb",
      "provenance": [],
      "collapsed_sections": [],
      "authorship_tag": "ABX9TyPoSDV30RCKTM/RuMwq0Gm4",
      "include_colab_link": true
    },
    "kernelspec": {
      "name": "python3",
      "display_name": "Python 3"
    },
    "language_info": {
      "name": "python"
    }
  },
  "cells": [
    {
      "cell_type": "markdown",
      "metadata": {
        "id": "view-in-github",
        "colab_type": "text"
      },
      "source": [
        "<a href=\"https://colab.research.google.com/github/muhammad-usama-aleem/Kaggle-30-Days-of-ML-challenge/blob/main/Kaggle-30-Days-of-ML-challenge.ipynb\" target=\"_parent\"><img src=\"https://colab.research.google.com/assets/colab-badge.svg\" alt=\"Open In Colab\"/></a>"
      ]
    },
    {
      "cell_type": "code",
      "metadata": {
        "id": "QMUaP_LfBm8x"
      },
      "source": [
        "# Importing the libraries\n",
        "import numpy as np\n",
        "import matplotlib.pyplot as plt\n",
        "import pandas as pd\n",
        "\n",
        "# Importing the train_dataset\n",
        "train_dataset = pd.read_csv('train.csv', index_col=\"id\")\n",
        "x_train = train_dataset.iloc[:, :-1].values\n",
        "y_train = train_dataset.iloc[:, -1].values\n",
        "\n",
        "# Importing the test_dataset\n",
        "test_dataset = pd.read_csv('test.csv', index_col=\"id\")\n",
        "x_test = test_dataset.iloc[:, :].values\n",
        "\n",
        "# Encoding categorical data\n",
        "from sklearn.preprocessing import LabelEncoder, OneHotEncoder\n",
        "from sklearn.compose import ColumnTransformer\n",
        "labelencoder_x = LabelEncoder()\n",
        "\n",
        "for count in range(0, 10):\n",
        "  x_train[:, count] = labelencoder_x.fit_transform(x_train[:, count])\n",
        "  x_test[:, count] = labelencoder_x.fit_transform(x_test[:, count])\n",
        "\n",
        "  \n",
        "# onehotencoder = ColumnTransformer(\n",
        "#     [('one_hot_encoder', OneHotEncoder(categories='auto'), [A, B, C, D, E, F, G, H, I, J, K])],\n",
        "#     # The column numbers to be transformed (here is [0] but can be [0, 1, 3])\n",
        "#     remainder='passthrough'  # Leave the rest of the columns untouched\n",
        "# )\n",
        "# copy_x_train = x_train[:, 1: 11]\n",
        "# copy_x_train = onehotencoder.fit_transform(copy_x_train)\n",
        "# print(copy_x_train)\n",
        "\n",
        "\n",
        "# dividing training and validating data\n",
        "from sklearn.model_selection import train_test_split\n",
        "\n",
        "from sklearn.tree import DecisionTreeRegressor\n",
        "regressor = DecisionTreeRegressor(random_state=0)\n",
        "regressor.fit(x_train, y_train)\n",
        "\n",
        "# Predicting a new result\n",
        "y_predict = regressor.predict(x_test)\n",
        "\n",
        "\"\"\"# to find the error\n",
        "from sklearn import metrics\n",
        "err = metrics.mean_squared_error(y_val, y_predict)\n",
        "err = np.square(err)\n",
        "print(err)\"\"\"\n",
        "\n",
        "data = pd.read_csv(\"sample_submission.csv\")\n",
        "data['target'] = regressor.predict(x_test)\n",
        "data.to_csv('sample_submission.csv')"
      ],
      "execution_count": 3,
      "outputs": []
    }
  ]
}